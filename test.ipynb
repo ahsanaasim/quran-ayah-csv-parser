{
 "cells": [
  {
   "cell_type": "code",
   "execution_count": 45,
   "metadata": {},
   "outputs": [
    {
     "data": {
      "text/html": [
       "<div>\n",
       "<style scoped>\n",
       "    .dataframe tbody tr th:only-of-type {\n",
       "        vertical-align: middle;\n",
       "    }\n",
       "\n",
       "    .dataframe tbody tr th {\n",
       "        vertical-align: top;\n",
       "    }\n",
       "\n",
       "    .dataframe thead th {\n",
       "        text-align: right;\n",
       "    }\n",
       "</style>\n",
       "<table border=\"1\" class=\"dataframe\">\n",
       "  <thead>\n",
       "    <tr style=\"text-align: right;\">\n",
       "      <th></th>\n",
       "      <th>index</th>\n",
       "      <th>name</th>\n",
       "      <th>aya</th>\n",
       "    </tr>\n",
       "  </thead>\n",
       "  <tbody>\n",
       "    <tr>\n",
       "      <th>0</th>\n",
       "      <td>1</td>\n",
       "      <td>الفاتحة</td>\n",
       "      <td>NaN</td>\n",
       "    </tr>\n",
       "    <tr>\n",
       "      <th>1</th>\n",
       "      <td>2</td>\n",
       "      <td>البقرة</td>\n",
       "      <td>NaN</td>\n",
       "    </tr>\n",
       "    <tr>\n",
       "      <th>2</th>\n",
       "      <td>3</td>\n",
       "      <td>آل عمران</td>\n",
       "      <td>NaN</td>\n",
       "    </tr>\n",
       "    <tr>\n",
       "      <th>3</th>\n",
       "      <td>4</td>\n",
       "      <td>النساء</td>\n",
       "      <td>NaN</td>\n",
       "    </tr>\n",
       "    <tr>\n",
       "      <th>4</th>\n",
       "      <td>5</td>\n",
       "      <td>المائدة</td>\n",
       "      <td>NaN</td>\n",
       "    </tr>\n",
       "    <tr>\n",
       "      <th>...</th>\n",
       "      <td>...</td>\n",
       "      <td>...</td>\n",
       "      <td>...</td>\n",
       "    </tr>\n",
       "    <tr>\n",
       "      <th>109</th>\n",
       "      <td>110</td>\n",
       "      <td>النصر</td>\n",
       "      <td>NaN</td>\n",
       "    </tr>\n",
       "    <tr>\n",
       "      <th>110</th>\n",
       "      <td>111</td>\n",
       "      <td>المسد</td>\n",
       "      <td>NaN</td>\n",
       "    </tr>\n",
       "    <tr>\n",
       "      <th>111</th>\n",
       "      <td>112</td>\n",
       "      <td>الإخلاص</td>\n",
       "      <td>NaN</td>\n",
       "    </tr>\n",
       "    <tr>\n",
       "      <th>112</th>\n",
       "      <td>113</td>\n",
       "      <td>الفلق</td>\n",
       "      <td>NaN</td>\n",
       "    </tr>\n",
       "    <tr>\n",
       "      <th>113</th>\n",
       "      <td>114</td>\n",
       "      <td>الناس</td>\n",
       "      <td>NaN</td>\n",
       "    </tr>\n",
       "  </tbody>\n",
       "</table>\n",
       "<p>114 rows × 3 columns</p>\n",
       "</div>"
      ],
      "text/plain": [
       "     index      name  aya\n",
       "0        1   الفاتحة  NaN\n",
       "1        2    البقرة  NaN\n",
       "2        3  آل عمران  NaN\n",
       "3        4    النساء  NaN\n",
       "4        5   المائدة  NaN\n",
       "..     ...       ...  ...\n",
       "109    110     النصر  NaN\n",
       "110    111     المسد  NaN\n",
       "111    112   الإخلاص  NaN\n",
       "112    113     الفلق  NaN\n",
       "113    114     الناس  NaN\n",
       "\n",
       "[114 rows x 3 columns]"
      ]
     },
     "execution_count": 45,
     "metadata": {},
     "output_type": "execute_result"
    }
   ],
   "source": [
    "import pandas as pd\n",
    "pd.read_xml(\"en.ahmedali.xml\")\n",
    "\n"
   ]
  },
  {
   "cell_type": "code",
   "execution_count": 46,
   "metadata": {},
   "outputs": [
    {
     "name": "stdout",
     "output_type": "stream",
     "text": [
      "0\n",
      "In the name of Allah, most benevolent, ever-merciful.\n",
      "1\n",
      "ALL PRAISE BE to Allah, Lord of all the worlds,\n",
      "2\n",
      "Most beneficent, ever-merciful,\n",
      "3\n",
      "King of the Day of Judgement.\n",
      "4\n",
      "You alone we worship, and to You alone turn for help.\n",
      "5\n",
      "Guide us (O Lord) to the path that is straight,\n",
      "6\n",
      "The path of those You have blessed, Not of those who have earned Your anger, nor those who have gone astray.\n"
     ]
    }
   ],
   "source": [
    "import xml.etree.ElementTree as et\n",
    "tree = et.parse('en.ahmedali.xml')\n",
    "root = tree.getroot()\n",
    "# print(\"root info : \",root)\n",
    "\n",
    "# root contains :\n",
    "for sura in root.findall('./sura'):\n",
    "    # print(sura.attrib['index'])\n",
    "    for aya in sura.iter():\n",
    "        # print(aya.attrib)\n",
    "        # print(sura.attrib)\n",
    "        if(sura.attrib['index']=='1'):\n",
    "            index = 7\n",
    "            for i in range(index):\n",
    "                print(i)\n",
    "                print(aya[i].attrib['text'])\n",
    "                \n",
    "            break\n"
   ]
  },
  {
   "cell_type": "code",
   "execution_count": 47,
   "metadata": {},
   "outputs": [
    {
     "name": "stdout",
     "output_type": "stream",
     "text": [
      "But Satan tempted them and had them banished from the (happy) state they were in. And We said: \"Go, one the antagonist of the other, and live on the earth for a time ordained, and fend for yourselves.\"\n",
      "\n"
     ]
    }
   ],
   "source": [
    "import xml.etree.ElementTree as et\n",
    "tree = et.parse('en.ahmedali.xml')\n",
    "root = tree.getroot()\n",
    "# print(\"root info : \",root)\n",
    "def printAyas(sura,i):\n",
    "    for item in root.findall('./sura'):\n",
    "        if(int(item.attrib['index']) == sura):\n",
    "            for aya in item.iter():\n",
    "                print(aya[i].attrib[\"text\"])     \n",
    "        \n",
    "try:\n",
    "    printAyas(2,35)\n",
    "except:\n",
    "    print(\"\")"
   ]
  },
  {
   "cell_type": "code",
   "execution_count": 48,
   "metadata": {},
   "outputs": [
    {
     "name": "stdout",
     "output_type": "stream",
     "text": [
      "\n"
     ]
    },
    {
     "ename": "ValueError",
     "evalue": "invalid literal for int() with base 10: ''",
     "output_type": "error",
     "traceback": [
      "\u001b[0;31m---------------------------------------------------------------------------\u001b[0m",
      "\u001b[0;31mValueError\u001b[0m                                Traceback (most recent call last)",
      "\u001b[1;32m/Users/jonayed/Documents/Python/demo work/test.ipynb Cell 4\u001b[0m in \u001b[0;36m<cell line: 10>\u001b[0;34m()\u001b[0m\n\u001b[1;32m      <a href='vscode-notebook-cell:/Users/jonayed/Documents/Python/demo%20work/test.ipynb#W3sZmlsZQ%3D%3D?line=7'>8</a>\u001b[0m l \u001b[39m=\u001b[39m []\n\u001b[1;32m      <a href='vscode-notebook-cell:/Users/jonayed/Documents/Python/demo%20work/test.ipynb#W3sZmlsZQ%3D%3D?line=8'>9</a>\u001b[0m l \u001b[39m=\u001b[39m content\u001b[39m.\u001b[39msplit(\u001b[39m'\u001b[39m\u001b[39m,\u001b[39m\u001b[39m'\u001b[39m)\n\u001b[0;32m---> <a href='vscode-notebook-cell:/Users/jonayed/Documents/Python/demo%20work/test.ipynb#W3sZmlsZQ%3D%3D?line=9'>10</a>\u001b[0m sura \u001b[39m=\u001b[39m \u001b[39mint\u001b[39;49m(l[\u001b[39m0\u001b[39;49m])\n\u001b[1;32m     <a href='vscode-notebook-cell:/Users/jonayed/Documents/Python/demo%20work/test.ipynb#W3sZmlsZQ%3D%3D?line=10'>11</a>\u001b[0m ayah \u001b[39m=\u001b[39m \u001b[39mint\u001b[39m(l[\u001b[39m1\u001b[39m])\n\u001b[1;32m     <a href='vscode-notebook-cell:/Users/jonayed/Documents/Python/demo%20work/test.ipynb#W3sZmlsZQ%3D%3D?line=11'>12</a>\u001b[0m \u001b[39mprint\u001b[39m(sura,ayah)\n",
      "\u001b[0;31mValueError\u001b[0m: invalid literal for int() with base 10: ''"
     ]
    }
   ],
   "source": [
    "#opening a file\n",
    "file1 = open(\"last read aya.txt\",'w')\n",
    "file1.write(\"3,18\")\n",
    "f = open(\"last read aya.txt\",'r')\n",
    "# print(f.read())\n",
    "content = f.read()\n",
    "print(content)\n",
    "l = []\n",
    "l = content.split(',')\n",
    "sura = int(l[0])\n",
    "ayah = int(l[1])\n",
    "print(sura,ayah)\n"
   ]
  },
  {
   "cell_type": "code",
   "execution_count": null,
   "metadata": {},
   "outputs": [],
   "source": [
    "import re\n",
    "\n",
    "txt = \"1The rain in Spain\"\n",
    "\n",
    "#Check if the string contains any digits (numbers from 0-9):\n",
    "\n",
    "x = re.findall(\"\\d\", txt)\n",
    "print(x)\n",
    "\n",
    "if x:\n",
    "  print(\"Yes, there is at least one match!\")\n",
    "else:\n",
    "  print(\"No match\")"
   ]
  },
  {
   "cell_type": "code",
   "execution_count": 56,
   "metadata": {},
   "outputs": [
    {
     "name": "stdout",
     "output_type": "stream",
     "text": [
      "2,34\n",
      "['2,3']\n",
      "{'surahIndex': 2, 'surah': 'البقرة', 'ayahIndex': 34, 'ayah': 'Remember, when We asked the angels to bow in homage to Adam, they all bowed but Iblis, who disdained and turned insolent, and so became a disbeliever.'}\n"
     ]
    }
   ],
   "source": [
    "import os.path\n",
    "import re\n",
    "from QuranReader import QuranReader\n",
    "#opening a file\n",
    "file1 = open(\"last read aya.txt\",'w')\n",
    "# file1.write(\"\") # case empty file\n",
    "# file1.write(\"22\") #case only sura number given\n",
    "# file1.write(\",32\") # case only ayah number given\n",
    "# file1.write(\"2,abcd\") # case valid sura number but invaild input as ayah number\n",
    "# file1.write(\"abcd,2\")# case valid ayah number but invaild input as sura number\n",
    "#file1.write(\"1,8\") #case exceded ayah in a sura\n",
    "file1.write(\"2,34\")\n",
    "file1.close()\n",
    "\n",
    "\n",
    "if os.path.exists(\"last read aya.txt\"):\n",
    "     \n",
    "    f = open(\"last read aya.txt\",'r')\n",
    "    # print(f.read())\n",
    "    content = f.read()\n",
    "    print(content)\n",
    "    x = re.findall(\"\\d,\\d\", content)\n",
    "    print(x)\n",
    "    if x:\n",
    "        l = []\n",
    "        l = content.split(',')\n",
    "        sura = int(l[0])\n",
    "        ayah = int(l[1])\n",
    "        quran = QuranReader()        \n",
    "        ayah = quran.getAyah(sura,ayah)\n",
    "        print(ayah)\n",
    "        \n",
    "    else:\n",
    "    # print(content)\n",
    "        quran = QuranReader()        \n",
    "        ayah = quran.getAyah(1,1)\n",
    "        print(ayah)\n",
    "    # print(sura,ayah)\n",
    "else:\n",
    "    # print(content)\n",
    "        quran = QuranReader()        \n",
    "        ayah = quran.getAyah(1,1)\n",
    "        print(ayah)\n",
    "\n",
    "\n"
   ]
  }
 ],
 "metadata": {
  "kernelspec": {
   "display_name": "Python 3",
   "language": "python",
   "name": "python3"
  },
  "language_info": {
   "codemirror_mode": {
    "name": "ipython",
    "version": 3
   },
   "file_extension": ".py",
   "mimetype": "text/x-python",
   "name": "python",
   "nbconvert_exporter": "python",
   "pygments_lexer": "ipython3",
   "version": "3.9.13"
  },
  "orig_nbformat": 4,
  "vscode": {
   "interpreter": {
    "hash": "949777d72b0d2535278d3dc13498b2535136f6dfe0678499012e853ee9abcab1"
   }
  }
 },
 "nbformat": 4,
 "nbformat_minor": 2
}
